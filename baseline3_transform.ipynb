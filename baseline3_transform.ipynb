{
 "cells": [
  {
   "cell_type": "code",
   "execution_count": 1,
   "metadata": {},
   "outputs": [],
   "source": [
    "import shutil\n",
    "import random\n",
    "import matplotlib.pyplot as plt\n",
    "import numpy as np\n",
    "import pandas as pd\n",
    "from pandas_path import path\n",
    "from pathlib import Path\n",
    "from PIL import Image\n",
    "import pytorch_lightning as pl\n",
    "import torch\n",
    "import rasterio\n",
    "import pyproj\n",
    "import xarray\n",
    "import xrspatial.multispectral as ms\n",
    "import segmentation_models_pytorch as smp\n",
    "\n",
    "from torchvision import transforms\n",
    "from torchvision.transforms import ToTensor, ToPILImage\n",
    "\n",
    "from cloud_model import CloudModel\n",
    "\n",
    "import warnings\n",
    "warnings.filterwarnings(\"ignore\")"
   ]
  },
  {
   "cell_type": "code",
   "execution_count": 2,
   "metadata": {},
   "outputs": [],
   "source": [
    "DATA_DIR = Path.cwd().parent.resolve() / \"CloudCover/data\"\n",
    "TRAIN_FEATURES = DATA_DIR / \"data/train_features\"\n",
    "TRAIN_LABELS = DATA_DIR / \"data/train_labels\"\n",
    "\n",
    "BANDS = [\"B02\", \"B03\", \"B04\", \"B08\"]\n",
    "train_meta = pd.read_csv(DATA_DIR / \"train_metadata.csv\")\n",
    "\n",
    "def add_paths(df, feature_dir, label_dir=None, bands=BANDS):\n",
    "    \"\"\"\n",
    "    Given dataframe with a column for chip_id, returns a dataframe with a column\n",
    "    added indicating the path to each band's TIF image as \"{band}_path\", eg \"B02_path\".\n",
    "    A column is also added to the dataframe with paths to the label TIF, if the\n",
    "    path to the labels directory is provided.\n",
    "    \"\"\"\n",
    "    for band in bands:\n",
    "        df[f\"{band}_path\"] = feature_dir / df[\"chip_id\"] / f\"{band}.tif\"\n",
    "        assert df[f\"{band}_path\"].path.exists().all()\n",
    "    if label_dir is not None:\n",
    "        df[\"label_path\"] = label_dir / (df[\"chip_id\"] + \".tif\")\n",
    "        assert df[\"label_path\"].path.exists().all()\n",
    "\n",
    "    return df\n",
    "\n",
    "train_meta = add_paths(train_meta, TRAIN_FEATURES, TRAIN_LABELS)"
   ]
  },
  {
   "cell_type": "code",
   "execution_count": 3,
   "metadata": {},
   "outputs": [],
   "source": [
    "# удаляем мусорные метки\n",
    "def get_label_mean(path):\n",
    "    with rasterio.open(path) as lp:\n",
    "        label = lp.read(1).astype(\"float32\")\n",
    "    return label.mean()\n",
    "\n",
    "train_meta['label_mean'] = train_meta[\"label_path\"].apply(get_label_mean)\n",
    "# train_meta.drop(train_meta['label_mean'] == 1)"
   ]
  },
  {
   "cell_type": "code",
   "execution_count": 4,
   "metadata": {},
   "outputs": [],
   "source": [
    "train_meta = train_meta[(train_meta['label_mean'] < 1) & (train_meta['label_mean'] > 0)]"
   ]
  },
  {
   "cell_type": "code",
   "execution_count": 5,
   "metadata": {},
   "outputs": [
    {
     "name": "stdout",
     "output_type": "stream",
     "text": [
      "((5335, 5), (5335, 2)) ((2628, 5), (2628, 2))\n"
     ]
    }
   ],
   "source": [
    "random.seed(9)  # set a seed for reproducibility\n",
    "\n",
    "# put 1/3 of chips into the validation set\n",
    "chip_ids = train_meta.chip_id.unique().tolist()\n",
    "val_chip_ids = random.sample(chip_ids, round(len(chip_ids) * 0.33))\n",
    "\n",
    "val_mask = train_meta.chip_id.isin(val_chip_ids)\n",
    "val = train_meta[val_mask].copy().reset_index(drop=True)\n",
    "train = train_meta[~val_mask].copy().reset_index(drop=True)\n",
    "\n",
    "# separate features from labels\n",
    "feature_cols = [\"chip_id\"] + [f\"{band}_path\" for band in BANDS]\n",
    "\n",
    "val_x = val[feature_cols].copy()\n",
    "val_y = val[[\"chip_id\", \"label_path\"]].copy()\n",
    "\n",
    "train_x = train[feature_cols].copy()\n",
    "train_y = train[[\"chip_id\", \"label_path\"]].copy()\n",
    "\n",
    "print((train_x.shape, train_y.shape),(val_x.shape, val_y.shape))"
   ]
  },
  {
   "cell_type": "code",
   "execution_count": 6,
   "metadata": {},
   "outputs": [],
   "source": []
  },
  {
   "cell_type": "code",
   "execution_count": 7,
   "metadata": {},
   "outputs": [],
   "source": []
  },
  {
   "cell_type": "code",
   "execution_count": 8,
   "metadata": {},
   "outputs": [
    {
     "name": "stderr",
     "output_type": "stream",
     "text": [
      "GPU available: True, used: False\n",
      "TPU available: False, using: 0 TPU cores\n",
      "IPU available: False, using: 0 IPUs\n"
     ]
    }
   ],
   "source": [
    "# Set up pytorch_lightning.Trainer object\n",
    "cloud_model = CloudModel(\n",
    "    bands=BANDS,\n",
    "    x_train=train_x,\n",
    "    y_train=train_y,\n",
    "    x_val=val_x,\n",
    "    y_val=val_y,\n",
    "    hparams = {\n",
    "        \"backbone\":\"resnet34\",\n",
    "        \"weights\": \"imagenet\",\n",
    "        \"gpu\":False,\n",
    "        \"num_workers\":2,\n",
    "        \"batch_size\":32,\n",
    "        \"transform\":None\n",
    "    }\n",
    ")\n",
    "\n",
    "# cloud_model.load_state_dict(torch.load('J:/CloudCover/data/assets/cloud_model.pt'))\n",
    "# cloud_model.transform = a1\n",
    "# cloud_model['train_dataset'].transforms = a1\n",
    "# cloud_model.eval()\n",
    "\n",
    "checkpoint_callback = pl.callbacks.ModelCheckpoint(\n",
    "    monitor=\"iou_epoch\", mode=\"max\", verbose=True\n",
    ")\n",
    "\n",
    "early_stopping_callback = pl.callbacks.early_stopping.EarlyStopping(\n",
    "    monitor=\"iou_epoch\",\n",
    "    patience=(cloud_model.patience * 3),\n",
    "    mode=\"max\",\n",
    "    verbose=True,\n",
    ")\n",
    "\n",
    "trainer = pl.Trainer(\n",
    "    fast_dev_run=False,\n",
    "    callbacks=[checkpoint_callback, early_stopping_callback],\n",
    "    max_epochs = 10\n",
    "    )"
   ]
  },
  {
   "cell_type": "code",
   "execution_count": 9,
   "metadata": {},
   "outputs": [],
   "source": [
    "#cloud_model.hparams"
   ]
  },
  {
   "cell_type": "code",
   "execution_count": 10,
   "metadata": {},
   "outputs": [
    {
     "name": "stderr",
     "output_type": "stream",
     "text": [
      "\n",
      "  | Name  | Type | Params\n",
      "-------------------------------\n",
      "0 | model | Unet | 24.4 M\n",
      "-------------------------------\n",
      "24.4 M    Trainable params\n",
      "0         Non-trainable params\n",
      "24.4 M    Total params\n",
      "97.759    Total estimated model params size (MB)\n"
     ]
    },
    {
     "name": "stdout",
     "output_type": "stream",
     "text": [
      "Epoch 0: 100%|██████████| 250/250 [1:03:18<00:00, 15.13s/it, loss=0.254, v_num=47, loss_step=0.323, iou_step=0.929, iou_epoch=0.831]"
     ]
    },
    {
     "name": "stderr",
     "output_type": "stream",
     "text": [
      "Metric iou_epoch improved. New best score: 0.831\n",
      "Epoch 0, global step 166: iou_epoch reached 0.83103 (best 0.83103), saving model to \"j:\\CloudCover\\lightning_logs\\version_47\\checkpoints\\epoch=0-step=166.ckpt\" as top 1\n"
     ]
    },
    {
     "name": "stdout",
     "output_type": "stream",
     "text": [
      "Epoch 1: 100%|██████████| 250/250 [1:02:52<00:00, 15.03s/it, loss=0.234, v_num=47, loss_step=0.185, iou_step=0.929, iou_epoch=0.825, loss_epoch=0.290]"
     ]
    },
    {
     "name": "stderr",
     "output_type": "stream",
     "text": [
      "Epoch 1, global step 333: iou_epoch was not in top 1\n"
     ]
    },
    {
     "name": "stdout",
     "output_type": "stream",
     "text": [
      "Epoch 2: 100%|██████████| 250/250 [1:03:37<00:00, 15.21s/it, loss=0.237, v_num=47, loss_step=0.166, iou_step=0.936, iou_epoch=0.849, loss_epoch=0.245]"
     ]
    },
    {
     "name": "stderr",
     "output_type": "stream",
     "text": [
      "Metric iou_epoch improved by 0.018 >= min_delta = 0.0. New best score: 0.849\n",
      "Epoch 2, global step 500: iou_epoch reached 0.84862 (best 0.84862), saving model to \"j:\\CloudCover\\lightning_logs\\version_47\\checkpoints\\epoch=2-step=500.ckpt\" as top 1\n"
     ]
    },
    {
     "name": "stdout",
     "output_type": "stream",
     "text": [
      "Epoch 3: 100%|██████████| 250/250 [1:06:47<00:00, 15.97s/it, loss=0.221, v_num=47, loss_step=0.196, iou_step=0.938, iou_epoch=0.853, loss_epoch=0.224]"
     ]
    },
    {
     "name": "stderr",
     "output_type": "stream",
     "text": [
      "Metric iou_epoch improved by 0.005 >= min_delta = 0.0. New best score: 0.853\n",
      "Epoch 3, global step 667: iou_epoch reached 0.85332 (best 0.85332), saving model to \"j:\\CloudCover\\lightning_logs\\version_47\\checkpoints\\epoch=3-step=667.ckpt\" as top 1\n"
     ]
    },
    {
     "name": "stdout",
     "output_type": "stream",
     "text": [
      "Epoch 4: 100%|██████████| 250/250 [1:06:48<00:00, 15.97s/it, loss=0.214, v_num=47, loss_step=0.143, iou_step=0.935, iou_epoch=0.847, loss_epoch=0.217]"
     ]
    },
    {
     "name": "stderr",
     "output_type": "stream",
     "text": [
      "Epoch 4, global step 834: iou_epoch was not in top 1\n"
     ]
    },
    {
     "name": "stdout",
     "output_type": "stream",
     "text": [
      "Epoch 5: 100%|██████████| 250/250 [1:06:51<00:00, 15.98s/it, loss=0.218, v_num=47, loss_step=0.144, iou_step=0.933, iou_epoch=0.858, loss_epoch=0.210]"
     ]
    },
    {
     "name": "stderr",
     "output_type": "stream",
     "text": [
      "Metric iou_epoch improved by 0.005 >= min_delta = 0.0. New best score: 0.858\n",
      "Epoch 5, global step 1001: iou_epoch reached 0.85787 (best 0.85787), saving model to \"j:\\CloudCover\\lightning_logs\\version_47\\checkpoints\\epoch=5-step=1001.ckpt\" as top 1\n"
     ]
    },
    {
     "name": "stdout",
     "output_type": "stream",
     "text": [
      "Epoch 6: 100%|██████████| 250/250 [1:07:15<00:00, 16.08s/it, loss=0.191, v_num=47, loss_step=0.104, iou_step=0.943, iou_epoch=0.863, loss_epoch=0.206]"
     ]
    },
    {
     "name": "stderr",
     "output_type": "stream",
     "text": [
      "Metric iou_epoch improved by 0.006 >= min_delta = 0.0. New best score: 0.863\n",
      "Epoch 6, global step 1168: iou_epoch reached 0.86344 (best 0.86344), saving model to \"j:\\CloudCover\\lightning_logs\\version_47\\checkpoints\\epoch=6-step=1168.ckpt\" as top 1\n"
     ]
    },
    {
     "name": "stdout",
     "output_type": "stream",
     "text": [
      "Epoch 7: 100%|██████████| 250/250 [1:08:31<00:00, 16.38s/it, loss=0.185, v_num=47, loss_step=0.154, iou_step=0.940, iou_epoch=0.867, loss_epoch=0.201]"
     ]
    },
    {
     "name": "stderr",
     "output_type": "stream",
     "text": [
      "Metric iou_epoch improved by 0.003 >= min_delta = 0.0. New best score: 0.867\n",
      "Epoch 7, global step 1335: iou_epoch reached 0.86685 (best 0.86685), saving model to \"j:\\CloudCover\\lightning_logs\\version_47\\checkpoints\\epoch=7-step=1335.ckpt\" as top 1\n"
     ]
    },
    {
     "name": "stdout",
     "output_type": "stream",
     "text": [
      "Epoch 8: 100%|██████████| 250/250 [1:06:04<00:00, 15.80s/it, loss=0.208, v_num=47, loss_step=0.227, iou_step=0.936, iou_epoch=0.867, loss_epoch=0.196]"
     ]
    },
    {
     "name": "stderr",
     "output_type": "stream",
     "text": [
      "Metric iou_epoch improved by 0.000 >= min_delta = 0.0. New best score: 0.867\n",
      "Epoch 8, global step 1502: iou_epoch reached 0.86725 (best 0.86725), saving model to \"j:\\CloudCover\\lightning_logs\\version_47\\checkpoints\\epoch=8-step=1502.ckpt\" as top 1\n"
     ]
    },
    {
     "name": "stdout",
     "output_type": "stream",
     "text": [
      "Epoch 9: 100%|██████████| 250/250 [1:08:13<00:00, 16.31s/it, loss=0.182, v_num=47, loss_step=0.145, iou_step=0.940, iou_epoch=0.868, loss_epoch=0.191]"
     ]
    },
    {
     "name": "stderr",
     "output_type": "stream",
     "text": [
      "Metric iou_epoch improved by 0.001 >= min_delta = 0.0. New best score: 0.868\n",
      "Epoch 9, global step 1669: iou_epoch reached 0.86849 (best 0.86849), saving model to \"j:\\CloudCover\\lightning_logs\\version_47\\checkpoints\\epoch=9-step=1669.ckpt\" as top 1\n"
     ]
    },
    {
     "name": "stdout",
     "output_type": "stream",
     "text": [
      "Epoch 9: 100%|██████████| 250/250 [1:08:15<00:00, 16.32s/it, loss=0.182, v_num=47, loss_step=0.145, iou_step=0.940, iou_epoch=0.868, loss_epoch=0.191]\n"
     ]
    }
   ],
   "source": [
    "# Fit the model\n",
    "trainer.fit(model=cloud_model)"
   ]
  },
  {
   "cell_type": "code",
   "execution_count": 11,
   "metadata": {},
   "outputs": [],
   "source": [
    "# # save the model\n",
    "DATA_DIR = Path.cwd().parent.resolve() / \"CloudCover/data\"\n",
    "submission_assets_dir = DATA_DIR / \"assets\"\n",
    "submission_assets_dir.mkdir(parents=True, exist_ok=True)\n",
    "\n",
    "model_weight_path = submission_assets_dir / \"cloud_model_clear.pt\"\n",
    "torch.save(cloud_model.state_dict(), model_weight_path)"
   ]
  }
 ],
 "metadata": {
  "interpreter": {
   "hash": "985a9d38f4b505acfa783977db310af55f3d0e6a05f97ff7d5f71b486042637f"
  },
  "kernelspec": {
   "display_name": "Python 3.9.9 64-bit ('cloud_env': conda)",
   "language": "python",
   "name": "python3"
  },
  "language_info": {
   "codemirror_mode": {
    "name": "ipython",
    "version": 3
   },
   "file_extension": ".py",
   "mimetype": "text/x-python",
   "name": "python",
   "nbconvert_exporter": "python",
   "pygments_lexer": "ipython3",
   "version": "3.9.7"
  },
  "orig_nbformat": 4
 },
 "nbformat": 4,
 "nbformat_minor": 2
}
