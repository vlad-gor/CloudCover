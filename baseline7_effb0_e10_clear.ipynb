{
 "cells": [
  {
   "cell_type": "code",
   "execution_count": 1,
   "metadata": {},
   "outputs": [],
   "source": [
    "import shutil\n",
    "import random\n",
    "import matplotlib.pyplot as plt\n",
    "import numpy as np\n",
    "import pandas as pd\n",
    "from pandas_path import path\n",
    "from pathlib import Path\n",
    "import pytorch_lightning as pl\n",
    "import torch\n",
    "\n",
    "import albumentations as A\n",
    "\n",
    "from cloud_model_ext import CloudModel\n",
    "\n",
    "import warnings\n",
    "warnings.filterwarnings(\"ignore\")\n",
    "\n",
    "DATA_DIR = Path.cwd().parent.resolve() / \"CloudCover/data\"\n",
    "TRAIN_FEATURES = DATA_DIR / \"data/train_features\"\n",
    "TRAIN_LABELS = DATA_DIR / \"data/train_labels\"\n",
    "\n",
    "BANDS = [\"B02\", \"B03\", \"B04\", \"B08\"]"
   ]
  },
  {
   "cell_type": "code",
   "execution_count": 2,
   "metadata": {},
   "outputs": [],
   "source": [
    "train_meta = pd.read_csv('train_meta_clear.csv')"
   ]
  },
  {
   "cell_type": "code",
   "execution_count": 3,
   "metadata": {},
   "outputs": [
    {
     "name": "stdout",
     "output_type": "stream",
     "text": [
      "((6370, 5), (6370, 2)) ((1593, 5), (1593, 2))\n"
     ]
    }
   ],
   "source": [
    "random.seed(11)  # set a seed for reproducibility\n",
    "# put 1/3 of chips into the validation set\n",
    "chip_ids = train_meta.chip_id.unique().tolist()\n",
    "val_chip_ids = random.sample(chip_ids, round(len(chip_ids) * 0.2))\n",
    "val_mask = train_meta.chip_id.isin(val_chip_ids)\n",
    "val = train_meta[val_mask].copy().reset_index(drop=True)\n",
    "train = train_meta[~val_mask].copy().reset_index(drop=True)\n",
    "# separate features from labels\n",
    "feature_cols = [\"chip_id\"] + [f\"{band}_path\" for band in BANDS]\n",
    "val_x = val[feature_cols].copy()\n",
    "val_y = val[[\"chip_id\", \"label_path\"]].copy()\n",
    "train_x = train[feature_cols].copy()\n",
    "train_y = train[[\"chip_id\", \"label_path\"]].copy()\n",
    "print((train_x.shape, train_y.shape),(val_x.shape, val_y.shape))"
   ]
  },
  {
   "cell_type": "code",
   "execution_count": 6,
   "metadata": {},
   "outputs": [],
   "source": [
    "# a1 = A.HorizontalFlip(p=0.5)\n",
    "# a2 = A.RandomRotate90(p=0.7)\n",
    "# a3 = A.RandomSizedCrop((128,512), 512,512, p=0.7)\n",
    "# a_comp = A.Compose([a1, a2, a3])\n",
    "\n",
    "# aug1 = A.SomeOf([\n",
    "#         A.VerticalFlip(p=0.5),\n",
    "#         A.HorizontalFlip(p=0.5),\n",
    "#         A.RandomRotate90(p=0.75)\n",
    "#         # A.RandomSizedCrop((256,512), 512,512, p=0.7)\n",
    "#     ], n=1)\n",
    "\n",
    "aug = A.SomeOf([\n",
    "        A.VerticalFlip(p=0.5), \n",
    "        A.HorizontalFlip(p=0.5),\n",
    "        A.RandomRotate90(p=0.75)\n",
    "        # A.RandomSizedCrop((256,512), 512,512, p=0.7)\n",
    "     ], n=1)\n",
    "\n",
    "# aug = A.SomeOf([\n",
    "#         A.VerticalFlip(p=0.5), \n",
    "#         A.HorizontalFlip(p=0.5),\n",
    "#         A.RandomRotate90(p=0.75),\n",
    "#         A.RandomSizedCrop((256,512), 512,512, p=0.7),\n",
    "#         A.Cutout(p=0.7, num_holes=10, max_h_size=40, max_w_size=40)\n",
    "#      ], n=2)"
   ]
  },
  {
   "cell_type": "code",
   "execution_count": 7,
   "metadata": {},
   "outputs": [
    {
     "name": "stderr",
     "output_type": "stream",
     "text": [
      "GPU available: True, used: False\n",
      "TPU available: False, using: 0 TPU cores\n",
      "IPU available: False, using: 0 IPUs\n"
     ]
    }
   ],
   "source": [
    "cloud_model = CloudModel(\n",
    "    bands=BANDS,\n",
    "    x_train=train_x,\n",
    "    y_train=train_y,\n",
    "    x_val=val_x,\n",
    "    y_val=val_y,\n",
    "    hparams = {\n",
    "        \"backbone\":'efficientnet-b0',\n",
    "        \"weights\": None,\n",
    "        \"gpu\":False,\n",
    "        \"num_workers\":2,\n",
    "        \"batch_size\":32,\n",
    "        \"transform\":aug\n",
    "    }\n",
    ")\n",
    "\n",
    "cloud_model.load_state_dict(torch.load('J:/CloudCover/data/assets/cloud_model_efnetb0_e12_6_ndvi.pt'))\n",
    "cloud_model.transform = aug\n",
    "cloud_model.eval()\n",
    "\n",
    "checkpoint_callback = pl.callbacks.ModelCheckpoint(\n",
    "    monitor=\"iou_epoch\", mode=\"max\", verbose=True\n",
    ")\n",
    "\n",
    "early_stopping_callback = pl.callbacks.early_stopping.EarlyStopping(\n",
    "    monitor=\"iou_epoch\",\n",
    "    patience=(cloud_model.patience * 3),\n",
    "    mode=\"max\",\n",
    "    verbose=True,\n",
    ")\n",
    "\n",
    "trainer = pl.Trainer(\n",
    "    fast_dev_run=False,\n",
    "    callbacks=[checkpoint_callback, early_stopping_callback],\n",
    "    max_epochs = 20\n",
    "    )"
   ]
  },
  {
   "cell_type": "code",
   "execution_count": 8,
   "metadata": {},
   "outputs": [
    {
     "name": "stderr",
     "output_type": "stream",
     "text": [
      "\n",
      "  | Name  | Type | Params\n",
      "-------------------------------\n",
      "0 | model | Unet | 6.3 M \n",
      "-------------------------------\n",
      "6.3 M     Trainable params\n",
      "0         Non-trainable params\n",
      "6.3 M     Total params\n",
      "25.010    Total estimated model params size (MB)\n"
     ]
    },
    {
     "name": "stdout",
     "output_type": "stream",
     "text": [
      "Epoch 0:   6%|▌         | 15/250 [07:24<1:48:49, 27.78s/it, loss=0.208, v_num=13, loss_step=0.155]"
     ]
    }
   ],
   "source": [
    "trainer.fit(model=cloud_model)"
   ]
  },
  {
   "cell_type": "code",
   "execution_count": 8,
   "metadata": {},
   "outputs": [],
   "source": [
    "# # save the model\n",
    "DATA_DIR = Path.cwd().parent.resolve() / \"CloudCover/data\"\n",
    "submission_assets_dir = DATA_DIR / \"assets\"\n",
    "submission_assets_dir.mkdir(parents=True, exist_ok=True)\n",
    "\n",
    "model_weight_path = submission_assets_dir / \"cloud_model_efnetb0_e12_6_ndvi.pt\"\n",
    "torch.save(cloud_model.state_dict(), model_weight_path)"
   ]
  }
 ],
 "metadata": {
  "interpreter": {
   "hash": "985a9d38f4b505acfa783977db310af55f3d0e6a05f97ff7d5f71b486042637f"
  },
  "kernelspec": {
   "display_name": "Python 3.9.7 64-bit ('cloud_env': conda)",
   "language": "python",
   "name": "python3"
  },
  "language_info": {
   "codemirror_mode": {
    "name": "ipython",
    "version": 3
   },
   "file_extension": ".py",
   "mimetype": "text/x-python",
   "name": "python",
   "nbconvert_exporter": "python",
   "pygments_lexer": "ipython3",
   "version": "3.9.7"
  },
  "orig_nbformat": 4
 },
 "nbformat": 4,
 "nbformat_minor": 2
}
