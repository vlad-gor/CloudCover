{
 "cells": [
  {
   "cell_type": "code",
   "execution_count": 2,
   "metadata": {},
   "outputs": [],
   "source": [
    "import shutil\n",
    "import random\n",
    "import matplotlib.pyplot as plt\n",
    "import numpy as np\n",
    "import pandas as pd\n",
    "from pandas_path import path\n",
    "from pathlib import Path\n",
    "from PIL import Image\n",
    "import pytorch_lightning as pl\n",
    "import torch\n",
    "import rasterio\n",
    "import pyproj\n",
    "import xarray\n",
    "import xrspatial.multispectral as ms\n",
    "import segmentation_models_pytorch as smp\n",
    "\n",
    "from torchvision import transforms\n",
    "from torchvision.transforms import ToTensor, ToPILImage\n",
    "\n",
    "import albumentations as A\n",
    "\n",
    "from cloud_model import CloudModel\n",
    "\n",
    "import warnings\n",
    "warnings.filterwarnings(\"ignore\")"
   ]
  },
  {
   "cell_type": "code",
   "execution_count": 3,
   "metadata": {},
   "outputs": [],
   "source": [
    "DATA_DIR = Path.cwd().parent.resolve() / \"CloudCover/data\"\n",
    "TRAIN_FEATURES = DATA_DIR / \"data/train_features\"\n",
    "TRAIN_LABELS = DATA_DIR / \"data/train_labels\"\n",
    "\n",
    "BANDS = [\"B02\", \"B03\", \"B04\", \"B08\"]\n",
    "train_meta = pd.read_csv(DATA_DIR / \"train_metadata.csv\")\n",
    "\n",
    "def add_paths(df, feature_dir, label_dir=None, bands=BANDS):\n",
    "    \"\"\"\n",
    "    Given dataframe with a column for chip_id, returns a dataframe with a column\n",
    "    added indicating the path to each band's TIF image as \"{band}_path\", eg \"B02_path\".\n",
    "    A column is also added to the dataframe with paths to the label TIF, if the\n",
    "    path to the labels directory is provided.\n",
    "    \"\"\"\n",
    "    for band in bands:\n",
    "        df[f\"{band}_path\"] = feature_dir / df[\"chip_id\"] / f\"{band}.tif\"\n",
    "        assert df[f\"{band}_path\"].path.exists().all()\n",
    "    if label_dir is not None:\n",
    "        df[\"label_path\"] = label_dir / (df[\"chip_id\"] + \".tif\")\n",
    "        assert df[\"label_path\"].path.exists().all()\n",
    "\n",
    "    return df\n",
    "\n",
    "train_meta = add_paths(train_meta, TRAIN_FEATURES, TRAIN_LABELS)"
   ]
  },
  {
   "cell_type": "code",
   "execution_count": 3,
   "metadata": {},
   "outputs": [],
   "source": [
    "# удаляем мусорные метки\n",
    "# def get_label_mean(path):\n",
    "#     with rasterio.open(path) as lp:\n",
    "#         label = lp.read(1).astype(\"float32\")\n",
    "#     return label.mean()\n",
    "# train_meta['label_mean'] = train_meta[\"label_path\"].apply(get_label_mean)\n",
    "# train_meta = train_meta[(train_meta['label_mean'] < 1) & (train_meta['label_mean'] > 0)]\n",
    "# train_meta.to_csv('train_meta_clear.csv', index=False)"
   ]
  },
  {
   "cell_type": "code",
   "execution_count": 4,
   "metadata": {},
   "outputs": [],
   "source": [
    "train_meta = pd.read_csv('train_meta_clear.csv')"
   ]
  },
  {
   "cell_type": "code",
   "execution_count": 13,
   "metadata": {},
   "outputs": [
    {
     "name": "stdout",
     "output_type": "stream",
     "text": [
      "((6370, 5), (6370, 2)) ((1593, 5), (1593, 2))\n"
     ]
    }
   ],
   "source": [
    "random.seed(11)  # set a seed for reproducibility\n",
    "# random.seed(10)\n",
    "# put 1/3 of chips into the validation set\n",
    "chip_ids = train_meta.chip_id.unique().tolist()\n",
    "val_chip_ids = random.sample(chip_ids, round(len(chip_ids) * 0.2))\n",
    "val_mask = train_meta.chip_id.isin(val_chip_ids)\n",
    "val = train_meta[val_mask].copy().reset_index(drop=True)\n",
    "train = train_meta[~val_mask].copy().reset_index(drop=True)\n",
    "# separate features from labels\n",
    "feature_cols = [\"chip_id\"] + [f\"{band}_path\" for band in BANDS]\n",
    "val_x = val[feature_cols].copy()\n",
    "val_y = val[[\"chip_id\", \"label_path\"]].copy()\n",
    "train_x = train[feature_cols].copy()\n",
    "train_y = train[[\"chip_id\", \"label_path\"]].copy()\n",
    "print((train_x.shape, train_y.shape),(val_x.shape, val_y.shape))"
   ]
  },
  {
   "cell_type": "code",
   "execution_count": 14,
   "metadata": {},
   "outputs": [],
   "source": [
    "a1 = A.HorizontalFlip(p=0.5)\n",
    "a2 = A.RandomRotate90(p=0.7)\n",
    "a3 = A.RandomSizedCrop((128,512), 512,512, p=0.7)\n",
    "a_comp = A.Compose([a1, a2, a3])"
   ]
  },
  {
   "cell_type": "code",
   "execution_count": 15,
   "metadata": {},
   "outputs": [
    {
     "name": "stderr",
     "output_type": "stream",
     "text": [
      "GPU available: True, used: False\n",
      "TPU available: False, using: 0 TPU cores\n",
      "IPU available: False, using: 0 IPUs\n"
     ]
    }
   ],
   "source": [
    "# Set up pytorch_lightning.Trainer object\n",
    "cloud_model = CloudModel(\n",
    "    bands=BANDS,\n",
    "    x_train=train_x,\n",
    "    y_train=train_y,\n",
    "    x_val=val_x,\n",
    "    y_val=val_y,\n",
    "    hparams = {\n",
    "        \"backbone\":\"resnet34\",\n",
    "        \"weights\": None,\n",
    "        \"gpu\":False,\n",
    "        \"num_workers\":2,\n",
    "        \"batch_size\":32,\n",
    "        \"transform\":a_comp\n",
    "    }\n",
    ")\n",
    "\n",
    "cloud_model.load_state_dict(torch.load('J:/CloudCover/data/assets/cloud_model_album2.pt'))\n",
    "cloud_model.transform = a_comp\n",
    "# # cloud_model['train_dataset'].transforms = a_comp\n",
    "cloud_model.eval()\n",
    "\n",
    "checkpoint_callback = pl.callbacks.ModelCheckpoint(\n",
    "    monitor=\"iou_epoch\", mode=\"max\", verbose=True\n",
    ")\n",
    "\n",
    "early_stopping_callback = pl.callbacks.early_stopping.EarlyStopping(\n",
    "    monitor=\"iou_epoch\",\n",
    "    patience=(cloud_model.patience * 2),\n",
    "    mode=\"max\",\n",
    "    verbose=True,\n",
    ")\n",
    "\n",
    "trainer = pl.Trainer(\n",
    "    fast_dev_run=False,\n",
    "    callbacks=[checkpoint_callback, early_stopping_callback]\n",
    "    )"
   ]
  },
  {
   "cell_type": "code",
   "execution_count": 16,
   "metadata": {},
   "outputs": [
    {
     "name": "stdout",
     "output_type": "stream",
     "text": [
      "Epoch 0:   3%|▎         | 7/250 [04:06<2:04:57, 30.85s/it, loss=0.201, v_num=55, loss_step=0.139]\n",
      "Epoch 0:   0%|          | 0/250 [00:55<3:53:09, 55.96s/it]\n"
     ]
    },
    {
     "name": "stderr",
     "output_type": "stream",
     "text": [
      "\n",
      "  | Name  | Type | Params\n",
      "-------------------------------\n",
      "0 | model | Unet | 24.4 M\n",
      "-------------------------------\n",
      "24.4 M    Trainable params\n",
      "0         Non-trainable params\n",
      "24.4 M    Total params\n",
      "97.759    Total estimated model params size (MB)\n"
     ]
    },
    {
     "name": "stdout",
     "output_type": "stream",
     "text": [
      "Epoch 0: 100%|██████████| 250/250 [1:09:13<00:00, 16.55s/it, loss=0.248, v_num=57, loss_step=0.445, iou_step=0.770, iou_epoch=0.850]"
     ]
    },
    {
     "name": "stderr",
     "output_type": "stream",
     "text": [
      "Metric iou_epoch improved. New best score: 0.850\n",
      "Epoch 0, global step 199: iou_epoch reached 0.85001 (best 0.85001), saving model to \"j:\\CloudCover\\lightning_logs\\version_57\\checkpoints\\epoch=0-step=199.ckpt\" as top 1\n"
     ]
    },
    {
     "name": "stdout",
     "output_type": "stream",
     "text": [
      "Epoch 1: 100%|██████████| 250/250 [1:10:43<00:00, 16.90s/it, loss=0.231, v_num=57, loss_step=0.402, iou_step=0.773, iou_epoch=0.862, loss_epoch=0.221]"
     ]
    },
    {
     "name": "stderr",
     "output_type": "stream",
     "text": [
      "Metric iou_epoch improved by 0.012 >= min_delta = 0.0. New best score: 0.862\n",
      "Epoch 1, global step 399: iou_epoch reached 0.86197 (best 0.86197), saving model to \"j:\\CloudCover\\lightning_logs\\version_57\\checkpoints\\epoch=1-step=399.ckpt\" as top 1\n"
     ]
    },
    {
     "name": "stdout",
     "output_type": "stream",
     "text": [
      "Epoch 2: 100%|██████████| 250/250 [1:12:34<00:00, 17.35s/it, loss=0.234, v_num=57, loss_step=0.0808, iou_step=0.777, iou_epoch=0.860, loss_epoch=0.219]"
     ]
    },
    {
     "name": "stderr",
     "output_type": "stream",
     "text": [
      "Epoch 2, global step 599: iou_epoch was not in top 1\n"
     ]
    },
    {
     "name": "stdout",
     "output_type": "stream",
     "text": [
      "Epoch 3: 100%|██████████| 250/250 [1:11:15<00:00, 17.03s/it, loss=0.237, v_num=57, loss_step=0.750, iou_step=0.780, iou_epoch=0.859, loss_epoch=0.217] "
     ]
    },
    {
     "name": "stderr",
     "output_type": "stream",
     "text": [
      "Epoch 3, global step 799: iou_epoch was not in top 1\n"
     ]
    },
    {
     "name": "stdout",
     "output_type": "stream",
     "text": [
      "Epoch 4: 100%|██████████| 250/250 [1:09:53<00:00, 16.71s/it, loss=0.209, v_num=57, loss_step=0.177, iou_step=0.779, iou_epoch=0.868, loss_epoch=0.216]"
     ]
    },
    {
     "name": "stderr",
     "output_type": "stream",
     "text": [
      "Metric iou_epoch improved by 0.006 >= min_delta = 0.0. New best score: 0.868\n",
      "Epoch 4, global step 999: iou_epoch reached 0.86762 (best 0.86762), saving model to \"j:\\CloudCover\\lightning_logs\\version_57\\checkpoints\\epoch=4-step=999.ckpt\" as top 1\n"
     ]
    },
    {
     "name": "stdout",
     "output_type": "stream",
     "text": [
      "Epoch 5: 100%|██████████| 250/250 [1:10:26<00:00, 16.84s/it, loss=0.204, v_num=57, loss_step=0.269, iou_step=0.780, iou_epoch=0.867, loss_epoch=0.211]"
     ]
    },
    {
     "name": "stderr",
     "output_type": "stream",
     "text": [
      "Epoch 5, global step 1199: iou_epoch was not in top 1\n"
     ]
    },
    {
     "name": "stdout",
     "output_type": "stream",
     "text": [
      "Epoch 6: 100%|██████████| 250/250 [1:10:42<00:00, 16.90s/it, loss=0.214, v_num=57, loss_step=0.674, iou_step=0.781, iou_epoch=0.870, loss_epoch=0.204]"
     ]
    },
    {
     "name": "stderr",
     "output_type": "stream",
     "text": [
      "Metric iou_epoch improved by 0.002 >= min_delta = 0.0. New best score: 0.870\n",
      "Epoch 6, global step 1399: iou_epoch reached 0.86977 (best 0.86977), saving model to \"j:\\CloudCover\\lightning_logs\\version_57\\checkpoints\\epoch=6-step=1399.ckpt\" as top 1\n"
     ]
    },
    {
     "name": "stdout",
     "output_type": "stream",
     "text": [
      "Epoch 7: 100%|██████████| 250/250 [1:09:56<00:00, 16.72s/it, loss=0.187, v_num=57, loss_step=0.211, iou_step=0.779, iou_epoch=0.869, loss_epoch=0.204]"
     ]
    },
    {
     "name": "stderr",
     "output_type": "stream",
     "text": [
      "Epoch 7, global step 1599: iou_epoch was not in top 1\n"
     ]
    },
    {
     "name": "stdout",
     "output_type": "stream",
     "text": [
      "Epoch 8: 100%|██████████| 250/250 [1:12:04<00:00, 17.23s/it, loss=0.21, v_num=57, loss_step=0.0495, iou_step=0.781, iou_epoch=0.871, loss_epoch=0.201]"
     ]
    },
    {
     "name": "stderr",
     "output_type": "stream",
     "text": [
      "Metric iou_epoch improved by 0.001 >= min_delta = 0.0. New best score: 0.871\n",
      "Epoch 8, global step 1799: iou_epoch reached 0.87123 (best 0.87123), saving model to \"j:\\CloudCover\\lightning_logs\\version_57\\checkpoints\\epoch=8-step=1799.ckpt\" as top 1\n"
     ]
    },
    {
     "name": "stdout",
     "output_type": "stream",
     "text": [
      "Epoch 9: 100%|██████████| 250/250 [1:10:12<00:00, 16.78s/it, loss=0.238, v_num=57, loss_step=0.749, iou_step=0.782, iou_epoch=0.871, loss_epoch=0.196]"
     ]
    },
    {
     "name": "stderr",
     "output_type": "stream",
     "text": [
      "Epoch 9, global step 1999: iou_epoch was not in top 1\n"
     ]
    },
    {
     "name": "stdout",
     "output_type": "stream",
     "text": [
      "Epoch 10: 100%|██████████| 250/250 [1:11:37<00:00, 17.12s/it, loss=0.208, v_num=57, loss_step=0.161, iou_step=0.778, iou_epoch=0.868, loss_epoch=0.198]"
     ]
    },
    {
     "name": "stderr",
     "output_type": "stream",
     "text": [
      "Epoch 10, global step 2199: iou_epoch was not in top 1\n"
     ]
    },
    {
     "name": "stdout",
     "output_type": "stream",
     "text": [
      "Epoch 11: 100%|██████████| 250/250 [1:12:32<00:00, 17.34s/it, loss=0.186, v_num=57, loss_step=0.0819, iou_step=0.782, iou_epoch=0.871, loss_epoch=0.194]"
     ]
    },
    {
     "name": "stderr",
     "output_type": "stream",
     "text": [
      "Metric iou_epoch improved by 0.000 >= min_delta = 0.0. New best score: 0.871\n",
      "Epoch 11, global step 2399: iou_epoch reached 0.87136 (best 0.87136), saving model to \"j:\\CloudCover\\lightning_logs\\version_57\\checkpoints\\epoch=11-step=2399.ckpt\" as top 1\n"
     ]
    },
    {
     "name": "stdout",
     "output_type": "stream",
     "text": [
      "Epoch 12:   0%|          | 1/250 [00:29<1:00:20, 14.54s/it, loss=0.185, v_num=57, loss_step=0.145, iou_step=0.782, iou_epoch=0.871, loss_epoch=0.191]   "
     ]
    }
   ],
   "source": [
    "# Fit the model\n",
    "trainer.fit(model=cloud_model)"
   ]
  },
  {
   "cell_type": "code",
   "execution_count": 8,
   "metadata": {},
   "outputs": [],
   "source": [
    "# # save the model\n",
    "DATA_DIR = Path.cwd().parent.resolve() / \"CloudCover/data\"\n",
    "submission_assets_dir = DATA_DIR / \"assets\"\n",
    "submission_assets_dir.mkdir(parents=True, exist_ok=True)\n",
    "\n",
    "model_weight_path = submission_assets_dir / \"cloud_model_resnet34_final.pt\"\n",
    "torch.save(cloud_model.state_dict(), model_weight_path)"
   ]
  }
 ],
 "metadata": {
  "interpreter": {
   "hash": "985a9d38f4b505acfa783977db310af55f3d0e6a05f97ff7d5f71b486042637f"
  },
  "kernelspec": {
   "display_name": "Python 3.9.7 64-bit ('cloud_env': conda)",
   "language": "python",
   "name": "python3"
  },
  "language_info": {
   "codemirror_mode": {
    "name": "ipython",
    "version": 3
   },
   "file_extension": ".py",
   "mimetype": "text/x-python",
   "name": "python",
   "nbconvert_exporter": "python",
   "pygments_lexer": "ipython3",
   "version": "3.9.7"
  },
  "orig_nbformat": 4
 },
 "nbformat": 4,
 "nbformat_minor": 2
}
